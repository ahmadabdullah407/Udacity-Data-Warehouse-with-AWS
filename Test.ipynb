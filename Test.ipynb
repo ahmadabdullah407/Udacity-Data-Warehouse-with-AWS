{
 "cells": [
  {
   "cell_type": "code",
   "execution_count": 1,
   "metadata": {
    "editable": true
   },
   "outputs": [],
   "source": [
    "import configparser\n",
    "import psycopg2\n",
    "from sql_queries import copy_table_queries, insert_table_queries\n",
    "config = configparser.ConfigParser()\n",
    "config.read('dwh.cfg')\n",
    "\n",
    "conn = psycopg2.connect(\"host={} dbname={} user={} password={} port={}\".format(*config['CLUSTER'].values()))\n",
    "cur = conn.cursor()\n",
    "conn.set_session(autocommit=True)"
   ]
  },
  {
   "cell_type": "markdown",
   "metadata": {
    "editable": true
   },
   "source": [
    "# songplays:"
   ]
  },
  {
   "cell_type": "code",
   "execution_count": 2,
   "metadata": {
    "editable": true
   },
   "outputs": [
    {
     "name": "stdout",
     "output_type": "stream",
     "text": [
      "(596, datetime.datetime(2018, 11, 2, 9, 1, 21), '15', 'paid', None, None, 172, 'Chicago-Naperville-Elgin, IL-IN-WI', '\"Mozilla/5.0 (X11; Linux x86_64) AppleWebKit/537.36 (KHTML, like Gecko) Ubuntu Chromium/36.0.1985.125 Chrome/36.0.1985.125 Safari/537.36\"')\n",
      "(604, datetime.datetime(2018, 11, 2, 9, 4, 16), '15', 'paid', None, None, 172, 'Chicago-Naperville-Elgin, IL-IN-WI', '\"Mozilla/5.0 (X11; Linux x86_64) AppleWebKit/537.36 (KHTML, like Gecko) Ubuntu Chromium/36.0.1985.125 Chrome/36.0.1985.125 Safari/537.36\"')\n",
      "(612, datetime.datetime(2018, 11, 2, 9, 8, 18), '15', 'paid', None, None, 172, 'Chicago-Naperville-Elgin, IL-IN-WI', '\"Mozilla/5.0 (X11; Linux x86_64) AppleWebKit/537.36 (KHTML, like Gecko) Ubuntu Chromium/36.0.1985.125 Chrome/36.0.1985.125 Safari/537.36\"')\n",
      "(505, datetime.datetime(2018, 11, 2, 9, 12, 32), '15', 'paid', None, None, 172, 'Chicago-Naperville-Elgin, IL-IN-WI', '\"Mozilla/5.0 (X11; Linux x86_64) AppleWebKit/537.36 (KHTML, like Gecko) Ubuntu Chromium/36.0.1985.125 Chrome/36.0.1985.125 Safari/537.36\"')\n",
      "(535, datetime.datetime(2018, 11, 2, 9, 16, 16), '15', 'paid', None, None, 172, 'Chicago-Naperville-Elgin, IL-IN-WI', '\"Mozilla/5.0 (X11; Linux x86_64) AppleWebKit/537.36 (KHTML, like Gecko) Ubuntu Chromium/36.0.1985.125 Chrome/36.0.1985.125 Safari/537.36\"')\n"
     ]
    }
   ],
   "source": [
    "cur.execute('SELECT * FROM songplays LIMIT 5')\n",
    "row = cur.fetchone()\n",
    "while row:\n",
    "   print(row)\n",
    "   row = cur.fetchone()"
   ]
  },
  {
   "cell_type": "code",
   "execution_count": 3,
   "metadata": {
    "editable": true
   },
   "outputs": [
    {
     "name": "stdout",
     "output_type": "stream",
     "text": [
      "(6820,)\n"
     ]
    }
   ],
   "source": [
    "cur.execute('SELECT count(*) FROM songplays')\n",
    "row = cur.fetchone()\n",
    "while row:\n",
    "   print(row)\n",
    "   row = cur.fetchone()"
   ]
  },
  {
   "cell_type": "markdown",
   "metadata": {
    "editable": true
   },
   "source": [
    "# users:"
   ]
  },
  {
   "cell_type": "code",
   "execution_count": 4,
   "metadata": {
    "editable": true
   },
   "outputs": [
    {
     "name": "stdout",
     "output_type": "stream",
     "text": [
      "('10', 'Sylvie', 'Cruz', 'F', 'free')\n",
      "('100', 'Adler', 'Barrera', 'M', 'free')\n",
      "('101', 'Jayden', 'Fox', 'M', 'free')\n",
      "('11', 'Christian', 'Porter', 'F', 'free')\n",
      "('12', 'Austin', 'Rosales', 'M', 'free')\n"
     ]
    }
   ],
   "source": [
    "cur.execute('SELECT * FROM users LIMIT 5')\n",
    "row = cur.fetchone()\n",
    "while row:\n",
    "   print(row)\n",
    "   row = cur.fetchone()"
   ]
  },
  {
   "cell_type": "code",
   "execution_count": 5,
   "metadata": {
    "editable": true
   },
   "outputs": [
    {
     "name": "stdout",
     "output_type": "stream",
     "text": [
      "(104,)\n"
     ]
    }
   ],
   "source": [
    "cur.execute('SELECT count(*) FROM users')\n",
    "row = cur.fetchone()\n",
    "while row:\n",
    "   print(row)\n",
    "   row = cur.fetchone()"
   ]
  },
  {
   "cell_type": "markdown",
   "metadata": {
    "editable": true
   },
   "source": [
    "# songs:"
   ]
  },
  {
   "cell_type": "code",
   "execution_count": 6,
   "metadata": {
    "editable": true
   },
   "outputs": [
    {
     "name": "stdout",
     "output_type": "stream",
     "text": [
      "('SOAAAQN12AB01856D3', 'Campeones De La Vida', 'ARAMIDF1187FB3D8D4', 0, 153.364)\n",
      "('SOAACFC12A8C140567', 'Supernatural Pt. II', 'ARNHTE41187B99289A', 0, 343.092)\n",
      "('SOAACTC12AB0186A20', 'Christmas Is Coming Soon', 'ARXWFZ21187FB43A0B', 2008, 180.767)\n",
      "('SOAADAD12A8C13D5B0', 'One Shot (Album Version)', 'ARQTC851187B9B03AF', 2005, 263.993)\n",
      "('SOAADJH12AB018BD30', 'Black Light (Album Version)', 'AR3FKJ61187B990357', 1975, 385.906)\n"
     ]
    }
   ],
   "source": [
    "cur.execute('SELECT * FROM songs LIMIT 5')\n",
    "row = cur.fetchone()\n",
    "while row:\n",
    "   print(row)\n",
    "   row = cur.fetchone()"
   ]
  },
  {
   "cell_type": "code",
   "execution_count": 7,
   "metadata": {
    "editable": true
   },
   "outputs": [
    {
     "name": "stdout",
     "output_type": "stream",
     "text": [
      "(14896,)\n"
     ]
    }
   ],
   "source": [
    "cur.execute('SELECT count(*) FROM songs')\n",
    "row = cur.fetchone()\n",
    "while row:\n",
    "   print(row)\n",
    "   row = cur.fetchone()"
   ]
  },
  {
   "cell_type": "markdown",
   "metadata": {
    "editable": true
   },
   "source": [
    "# artists:"
   ]
  },
  {
   "cell_type": "code",
   "execution_count": 8,
   "metadata": {
    "editable": true
   },
   "outputs": [
    {
     "name": "stdout",
     "output_type": "stream",
     "text": [
      "('AR00B1I1187FB433EB', 'Eagle-Eye Cherry', 'Stockholm, Sweden', None, None)\n",
      "('AR00DG71187B9B7FCB', 'Basslovers United', '', None, None)\n",
      "('AR00FVC1187FB5BE3E', 'Panda', 'Monterrey, NL, México', 25.6708, -100.31)\n",
      "('AR00JIO1187B9A5A15', 'Saigon', 'Brooklyn', 40.6551, -73.9489)\n",
      "('AR00LNI1187FB444A5', 'Bruce BecVar', '', None, None)\n"
     ]
    }
   ],
   "source": [
    "cur.execute('SELECT * FROM artists LIMIT 5')\n",
    "row = cur.fetchone()\n",
    "while row:\n",
    "   print(row)\n",
    "   row = cur.fetchone()"
   ]
  },
  {
   "cell_type": "code",
   "execution_count": 9,
   "metadata": {
    "editable": true
   },
   "outputs": [
    {
     "name": "stdout",
     "output_type": "stream",
     "text": [
      "(10025,)\n"
     ]
    }
   ],
   "source": [
    "cur.execute('SELECT count(*) FROM artists')\n",
    "row = cur.fetchone()\n",
    "while row:\n",
    "   print(row)\n",
    "   row = cur.fetchone()"
   ]
  },
  {
   "cell_type": "markdown",
   "metadata": {
    "editable": true
   },
   "source": [
    "# time:"
   ]
  },
  {
   "cell_type": "code",
   "execution_count": 10,
   "metadata": {
    "editable": true
   },
   "outputs": [
    {
     "name": "stdout",
     "output_type": "stream",
     "text": [
      "(datetime.datetime(2018, 11, 1, 21, 1, 46), 21, 1, 44, 11, 2018, 4)\n",
      "(datetime.datetime(2018, 11, 1, 21, 5, 52), 21, 1, 44, 11, 2018, 4)\n",
      "(datetime.datetime(2018, 11, 1, 21, 8, 16), 21, 1, 44, 11, 2018, 4)\n",
      "(datetime.datetime(2018, 11, 1, 21, 11, 13), 21, 1, 44, 11, 2018, 4)\n",
      "(datetime.datetime(2018, 11, 1, 21, 17, 33), 21, 1, 44, 11, 2018, 4)\n"
     ]
    }
   ],
   "source": [
    "cur.execute('SELECT * FROM time LIMIT 5')\n",
    "row = cur.fetchone()\n",
    "while row:\n",
    "   print(row)\n",
    "   row = cur.fetchone()"
   ]
  },
  {
   "cell_type": "code",
   "execution_count": 11,
   "metadata": {
    "editable": true
   },
   "outputs": [
    {
     "name": "stdout",
     "output_type": "stream",
     "text": [
      "(6813,)\n"
     ]
    }
   ],
   "source": [
    "cur.execute('SELECT count(*) FROM time')\n",
    "row = cur.fetchone()\n",
    "while row:\n",
    "   print(row)\n",
    "   row = cur.fetchone()"
   ]
  },
  {
   "cell_type": "markdown",
   "metadata": {
    "editable": true
   },
   "source": [
    "# staging_events"
   ]
  },
  {
   "cell_type": "code",
   "execution_count": 12,
   "metadata": {
    "editable": true
   },
   "outputs": [
    {
     "name": "stdout",
     "output_type": "stream",
     "text": [
      "(0, 'A Fine Frenzy', 'Logged In', 'Anabelle', 'F', 0, 'Simpson', 267.911, 'free', 'Philadelphia-Camden-Wilmington, PA-NJ-DE-MD', 'PUT', 'NextSong', 1541044398796.0, 256, 'Almost Lover (Album Version)', 200, 1541377992796, '\"Mozilla/5.0 (Macintosh; Intel Mac OS X 10_9_4) AppleWebKit/537.36 (KHTML, like Gecko) Chrome/36.0.1985.125 Safari/537.36\"', '69')\n",
      "(8, 'Nirvana', 'Logged In', 'Aleena', 'F', 0, 'Kirby', 214.778, 'paid', 'Waterloo-Cedar Falls, IA', 'PUT', 'NextSong', 1541022995796.0, 237, 'Serve The Servants', 200, 1541381242796, 'Mozilla/5.0 (Macintosh; Intel Mac OS X 10.9; rv:31.0) Gecko/20100101 Firefox/31.0', '44')\n",
      "(16, 'Television', 'Logged In', 'Aleena', 'F', 1, 'Kirby', 238.498, 'paid', 'Waterloo-Cedar Falls, IA', 'PUT', 'NextSong', 1541022995796.0, 237, 'See No Evil  (Remastered LP Version)', 200, 1541381456796, 'Mozilla/5.0 (Macintosh; Intel Mac OS X 10.9; rv:31.0) Gecko/20100101 Firefox/31.0', '44')\n",
      "(24, 'JOHN COLTRANE', 'Logged In', 'Aleena', 'F', 2, 'Kirby', 346.435, 'paid', 'Waterloo-Cedar Falls, IA', 'PUT', 'NextSong', 1541022995796.0, 237, 'Blues To Bechet (LP Version)', 200, 1541381694796, 'Mozilla/5.0 (Macintosh; Intel Mac OS X 10.9; rv:31.0) Gecko/20100101 Firefox/31.0', '44')\n",
      "(32, 'NOFX', 'Logged In', 'Aleena', 'F', 3, 'Kirby', 80.7963, 'paid', 'Waterloo-Cedar Falls, IA', 'PUT', 'NextSong', 1541022995796.0, 237, \"It's My Job To Keep Punk Rock Elite\", 200, 1541382040796, 'Mozilla/5.0 (Macintosh; Intel Mac OS X 10.9; rv:31.0) Gecko/20100101 Firefox/31.0', '44')\n"
     ]
    }
   ],
   "source": [
    "cur.execute('SELECT * FROM staging_events LIMIT 5')\n",
    "row = cur.fetchone()\n",
    "while row:\n",
    "   print(row)\n",
    "   row = cur.fetchone()"
   ]
  },
  {
   "cell_type": "code",
   "execution_count": 13,
   "metadata": {
    "editable": true
   },
   "outputs": [
    {
     "name": "stdout",
     "output_type": "stream",
     "text": [
      "(8056,)\n"
     ]
    }
   ],
   "source": [
    "cur.execute('SELECT count(*) FROM staging_events')\n",
    "row = cur.fetchone()\n",
    "while row:\n",
    "   print(row)\n",
    "   row = cur.fetchone()"
   ]
  },
  {
   "cell_type": "markdown",
   "metadata": {
    "editable": true
   },
   "source": [
    "# staging_songs:"
   ]
  },
  {
   "cell_type": "code",
   "execution_count": 14,
   "metadata": {
    "editable": true
   },
   "outputs": [
    {
     "name": "stdout",
     "output_type": "stream",
     "text": [
      "(1, 'ARE6D0Y119B8667D9F', None, None, '', 'Alejandro Santiago', 'SOSFHAT12A58A79EB6', 'Siempre Ana', 234.631, 2002)\n",
      "(1, 'ARC1IHZ1187FB4E920', None, None, '', 'Jamie Cullum', 'SOUOYBD12A67AE0EC5', 'Oh God', 218.305, 0)\n",
      "(1, 'ARMYCBG124549A49AC', None, None, '', 'Branford Marsalis Quartet;Terence Blanchard', 'SOEEMJJ12A8C133D41', 'Again Never', 234.762, 0)\n",
      "(1, 'ARVEJ9M1187FB4DC44', None, None, '', 'Les Ogres De Barback', 'SOBQBWP12AB018611B', 'Niev nietch nievitch', 254.066, 1999)\n",
      "(1, 'ARPSOOQ1187B993508', None, None, 'Stockholm', 'Bloodbath', 'SONJPRU12AF72A5963', 'Outnumbering The Day', 195.97, 0)\n"
     ]
    }
   ],
   "source": [
    "cur.execute('SELECT * FROM staging_songs LIMIT 5')\n",
    "row = cur.fetchone()\n",
    "while row:\n",
    "   print(row)\n",
    "   row = cur.fetchone()"
   ]
  },
  {
   "cell_type": "code",
   "execution_count": 15,
   "metadata": {
    "editable": true
   },
   "outputs": [
    {
     "name": "stdout",
     "output_type": "stream",
     "text": [
      "(14896,)\n"
     ]
    }
   ],
   "source": [
    "cur.execute('SELECT count(*) FROM staging_songs')\n",
    "row = cur.fetchone()\n",
    "while row:\n",
    "   print(row)\n",
    "   row = cur.fetchone()"
   ]
  },
  {
   "cell_type": "code",
   "execution_count": null,
   "metadata": {
    "editable": true
   },
   "outputs": [],
   "source": []
  }
 ],
 "metadata": {
  "kernelspec": {
   "display_name": "Python 3",
   "language": "python",
   "name": "python3"
  },
  "language_info": {
   "codemirror_mode": {
    "name": "ipython",
    "version": 3
   },
   "file_extension": ".py",
   "mimetype": "text/x-python",
   "name": "python",
   "nbconvert_exporter": "python",
   "pygments_lexer": "ipython3",
   "version": "3.6.3"
  }
 },
 "nbformat": 4,
 "nbformat_minor": 4
}
